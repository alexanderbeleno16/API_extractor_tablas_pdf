{
 "cells": [
  {
   "cell_type": "code",
   "execution_count": null,
   "metadata": {},
   "outputs": [],
   "source": [
    "import pandas as pd \n",
    "import PyPDF2\n",
    "PDFFile = open(r'carpeta_pdf/documentos_prueba_autos_sr_juan/1658743688.6982_121-24.pdf','rb')\n",
    "\n",
    "PDF = PyPDF2.PdfFileReader(PDFFile)\n",
    "pages = PDF.getNumPages()\n",
    "key = '/Annots'\n",
    "uri = '/URI'\n",
    "ank = '/A'\n",
    "\n",
    "for page in range(pages):\n",
    "    print(\"Current Page: {}\".format(page))\n",
    "    pageSliced = PDF.getPage(page)\n",
    "    pageObject = pageSliced.getObject()\n",
    "    if key in pageObject.keys():\n",
    "        ann = pageObject[key]\n",
    "        for a in ann:\n",
    "            try:\n",
    "                u = a.getObject()\n",
    "                if uri in u[ank].keys():\n",
    "                        df = pd.DataFrame(columns=['URL']) #POSSIBLE PROBLEM AREA\n",
    "                        for i in range(pages): #LIKELY PROBLEM AREA\n",
    "                            df.loc[i] = (u[ank][uri]) #LIKELY PROBLEM AREA\n",
    "                            print(u[ank][uri])\n",
    "            except KeyError:\n",
    "                pass"
   ]
  },
  {
   "cell_type": "code",
   "execution_count": 8,
   "metadata": {},
   "outputs": [
    {
     "name": "stdout",
     "output_type": "stream",
     "text": [
      "Pagina(s) encontrada(s): 3\n",
      "Links encontrado(s): 22\n",
      "['https://www.ramajudicial.gov.co/documents/36164828/116104376/014-2017-00180-00.pdf/', 'https://www.ramajudicial.gov.co/documents/36164828/116104376/014-2022-00122-00.pdf/', 'https://www.ramajudicial.gov.co/documents/36164828/116104376/014-2022-00245-00.pdf/', 'https://www.ramajudicial.gov.co/documents/36164828/116104376/014-2009-00032-00.pdf/', 'https://www.ramajudicial.gov.co/documents/36164828/116104376/014-2018-00766-00.pdf/', 'https://www.ramajudicial.gov.co/documents/36164828/116104376/014-2019-00495-00.pdf/', 'https://www.ramajudicial.gov.co/documents/36164828/116104376/014-2019-00574-00.pdf/', 'https://www.ramajudicial.gov.co/documents/36164828/116104376/014-2020-00340-00.pdf/', 'https://www.ramajudicial.gov.co/documents/36164828/116104376/014-2020-00130-00.pdf/', 'https://www.ramajudicial.gov.co/documents/36164828/116104376/014-2022-00271-00.pdf/', 'https://www.ramajudicial.gov.co/documents/36164828/116104376/014-2022-00252-00.pdf/', 'https://www.ramajudicial.gov.co/documents/36164828/116104376/014-2020-00431-00.pdf/', 'https://www.ramajudicial.gov.co/documents/36164828/116104376/014-2017-00800-00.pdf/', 'https://www.ramajudicial.gov.co/documents/36164828/116104376/014-2021-00188-00.pdf/', 'https://www.ramajudicial.gov.co/documents/36164828/116104376/014-2014-01245-00.pdf/', 'https://www.ramajudicial.gov.co/documents/36164828/116104376/014-2017-00002-00.pdf/', 'https://www.ramajudicial.gov.co/documents/36164828/116104376/014-2022-00125-00.pdf/', 'https://www.ramajudicial.gov.co/documents/36164828/116104376/014-2022-00249-00.pdf/', 'https://www.ramajudicial.gov.co/documents/36164828/116104376/014-2019-00621-00.pdf/', 'https://www.ramajudicial.gov.co/documents/36164828/116104376/014-2022-00260-00.pdf/', 'https://www.ramajudicial.gov.co/documents/36164828/116104376/014-2016-00192-00.pdf/', 'https://www.ramajudicial.gov.co/documents/36164828/116104376/014-2020-00427-00.pdf/']\n"
     ]
    }
   ],
   "source": [
    "import pandas as pd \n",
    "import PyPDF2\n",
    "\n",
    "LINK_ARCHIVO_PDF = open(r'carpeta_pdf/documentos_prueba_autos_sr_juan/1658743688.6982_121-24.pdf','rb')\n",
    "\n",
    "PDF = PyPDF2.PdfFileReader(LINK_ARCHIVO_PDF)\n",
    "paginas = PDF.getNumPages()\n",
    "key = '/Annots'\n",
    "url = '/URI'\n",
    "ank = '/A'\n",
    "mylist = []\n",
    "\n",
    "# print(paginas)\n",
    "# exit()\n",
    "n=0\n",
    "for page in range(paginas):\n",
    "    n+=1\n",
    "    # print(\"En la pagina #: {}\".format(n))\n",
    "    paginaExtraida = PDF.getPage(page)\n",
    "    ObjetoPaginaExtraida = paginaExtraida.getObject()\n",
    "    # print(ObjetoPaginaExtraida.keys())\n",
    "    \n",
    "    if key in ObjetoPaginaExtraida.keys():\n",
    "        array_objetos = ObjetoPaginaExtraida[key]\n",
    "        for obj in array_objetos:\n",
    "            try:\n",
    "                objeto = obj.getObject()\n",
    "                # print( objeto )\n",
    "                if url in objeto[ank].keys():\n",
    "                    mylist.append(objeto[ank][url])\n",
    "                    # print(objeto[ank][url])\n",
    "            except KeyError:\n",
    "                pass\n",
    "            \n",
    "print(\"Pagina(s) encontrada(s): {}\".format(n))            \n",
    "sin_duplicados = set(mylist)\n",
    "new_list = list(sin_duplicados)\n",
    "print(\"Links encontrado(s): {}\".format(len(new_list)))            \n",
    "print( new_list )\n",
    "# df = pd.DataFrame(new_list)\n",
    "# df.to_csv('fileoutput.csv')"
   ]
  }
 ],
 "metadata": {
  "kernelspec": {
   "display_name": "Python 3.10.5 64-bit",
   "language": "python",
   "name": "python3"
  },
  "language_info": {
   "codemirror_mode": {
    "name": "ipython",
    "version": 3
   },
   "file_extension": ".py",
   "mimetype": "text/x-python",
   "name": "python",
   "nbconvert_exporter": "python",
   "pygments_lexer": "ipython3",
   "version": "3.10.5"
  },
  "orig_nbformat": 4,
  "vscode": {
   "interpreter": {
    "hash": "dec930e7cd7a7d6c0515aec4de01fef8664a31db4f7190044a884892bb3a6429"
   }
  }
 },
 "nbformat": 4,
 "nbformat_minor": 2
}
