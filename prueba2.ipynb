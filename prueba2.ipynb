{
 "cells": [
  {
   "cell_type": "code",
   "execution_count": 11,
   "metadata": {},
   "outputs": [
    {
     "name": "stdout",
     "output_type": "stream",
     "text": [
      "Pagina(s) encontrada(s): 2\n",
      "Links encontrado(s): 17\n",
      "['https://www.ramajudicial.gov.co/documents/36706302/116241903/Rad20190045700AutoOrdenarArchivo20220725.pdf/e0ff21de-fa70-4b73-809b-a374aa87d6a3', 'https://www.ramajudicial.gov.co/documents/36706302/116241903/Rad20200024300AutoObedecerCumplir20220725.pdf/2d44cf66-deb5-4709-bba3-3656eae47973', 'https://www.ramajudicial.gov.co/documents/36706302/116241903/Rad20200012900AutoOrdenarArchivo20220725.pdf/cf57f455-9de2-4a3c-9334-9937f25a0a67', 'https://www.ramajudicial.gov.co/documents/36706302/116241903/Rad20180049700AutoOrdenarArchivo20220725.pdf/ca0d5bc0-b5b6-443f-8d6d-6234387618ce', 'https://www.ramajudicial.gov.co/documents/36706302/116241903/Rad20180023500AutoAperturaIncidenteSanci%C3%B3n20220725.pdf/2e1dad22-e7c7-46b7-9b61-1831b7236183', 'https://www.ramajudicial.gov.co/documents/36706302/116241903/Rad20150052500AutoOrdenarArchivo20220725.pdf/fc58eeac-5d2a-4507-901f-4743a1790e75', 'https://www.ramajudicial.gov.co/documents/36706302/116241903/Rad20150028300AutoOrdenarArchivo20220725.pdf/3733da0c-5763-45fb-aa7a-82f3b1270d9f', 'https://www.ramajudicial.gov.co/documents/36706302/116241903/Rad20170037800ObedezcaseYAutoFijaAgencias20220725.pdf/5edbfffb-e6d4-44c5-aa9c-1d6da55cad86', 'https://www.ramajudicial.gov.co/documents/36706302/116241903/Rad20190043300AutoOrdenarArchivo20220725.pdf/9c68daec-a55a-4c71-8f0d-b4735e9f9430', 'https://www.ramajudicial.gov.co/documents/36706302/116241903/Rad20140001100AutoOrdenarArchivo20220725.pdf/51370784-2569-4d43-a07e-77d0b2729064', 'https://www.ramajudicial.gov.co/documents/36706302/116241903/Rad20170012300AutoOrdenarArchivo20220725.pdf/d223674a-ecd6-46c6-a2a8-39ba3324d953', 'https://www.ramajudicial.gov.co/documents/36706302/116241903/Rad20190016700AutoObedecerCumplir20220725.pdf/2d32aee5-72aa-4853-88c9-715149d62c98', 'https://www.ramajudicial.gov.co/documents/36706302/116241903/Rad20160030500AutoOrdenarArchivo20220725.pdf/e2e96767-b27f-4b04-8f26-5886d521e66a', 'https://www.ramajudicial.gov.co/documents/36706302/116241903/Rad20150019500AutoOrdenarArchivo20220725.pdf/1c3edaac-a1b6-431d-9e2e-38e454a7fb0a', 'https://www.ramajudicial.gov.co/documents/36706302/116241903/Rad20210044900AutoRequiereCuradorPruebaSumaria.pdf/561f22d9-627c-4f66-8eba-36c5a6bcef48', 'https://www.ramajudicial.gov.co/documents/36706302/116241903/Rad20180018300AutoOrdenarArchivo20220725.pdf/cd3e0061-8308-4896-b30b-2fbd6ccec6d4', 'https://www.ramajudicial.gov.co/documents/36706302/116241903/Rad20190009500AutoOrdenarArchivo20220725.pdf/2a779737-a2d8-46b6-b38b-bc50c191a40b']\n"
     ]
    }
   ],
   "source": [
    "import pandas as pd \n",
    "import PyPDF2\n",
    "import re\n",
    "\n",
    "# LINK_ARCHIVO_PDF = open(r'carpeta_pdf/documentos_prueba_autos_sr_juan/060 OOHH.pdf','rb')   #OK\n",
    "# LINK_ARCHIVO_PDF = open(r'carpeta_pdf/documentos_prueba_autos_sr_juan/1658743688.6982_121-24.pdf','rb') #OK\n",
    "# LINK_ARCHIVO_PDF = open(r'carpeta_pdf/documentos_prueba_autos_sr_juan/Estado Electronico No. 065F.pdf','rb')    #OK\n",
    "# LINK_ARCHIVO_PDF = open(r'carpeta_pdf/documentos_prueba_autos_sr_juan/Estado No. 114.pdf','rb') #REGULAR {DOMINIO}\n",
    "# LINK_ARCHIVO_PDF = open(r'carpeta_pdf/documentos_prueba_autos_sr_juan/ESTADO_1.pdf','rb')   #OK\n",
    "LINK_ARCHIVO_PDF = open(r'carpeta_pdf/documentos_prueba_autos_sr_juan/Estado20220726N083.pdf','rb') #REGULAR {DOMINIO}\n",
    "# LINK_ARCHIVO_PDF = open(r'carpeta_pdf/documentos_prueba_autos_sr_juan/pequeñas causas - laboral 004 barranquilla_27-07-2022 RAMA.pdf','rb') #OK\n",
    "\n",
    "PDF = PyPDF2.PdfFileReader(LINK_ARCHIVO_PDF, strict=False)\n",
    "paginas = PDF.getNumPages()\n",
    "\n",
    "dominio = 'https://www.ramajudicial.gov.co'\n",
    "key = '/Annots'\n",
    "url = '/URI'\n",
    "ank = '/A'\n",
    "mylist = []\n",
    "\n",
    "\n",
    "for page in range(paginas):\n",
    "    paginaExtraida = PDF.getPage(page)\n",
    "    ObjetoPaginaExtraida = paginaExtraida.getObject()\n",
    "    # print(ObjetoPaginaExtraida.keys())\n",
    "    \n",
    "    if key in ObjetoPaginaExtraida.keys():\n",
    "        array_objetos = ObjetoPaginaExtraida[key]\n",
    "        for obj in array_objetos:\n",
    "            try:\n",
    "                objeto = obj.getObject()\n",
    "                # print( objeto )\n",
    "                if url in objeto[ank].keys():\n",
    "                    link=\"\"\n",
    "                    if ( re.search(\"^\"+dominio+\"*\", objeto[ank][url]) ):\n",
    "                        link = objeto[ank][url]\n",
    "                    else:\n",
    "                        link = dominio+str(objeto[ank][url])\n",
    "                    mylist.append(link)\n",
    "                    # print(objeto[ank][url])\n",
    "            except KeyError:\n",
    "                pass\n",
    "            \n",
    "print(\"Pagina(s) encontrada(s): {}\".format(paginas))            \n",
    "sin_duplicados = set(mylist)\n",
    "new_list = list(sin_duplicados)\n",
    "print(\"Links encontrado(s): {}\".format(len(new_list)))            \n",
    "print( new_list )\n",
    "\n",
    "\n",
    "\n",
    "\n",
    "# df = pd.DataFrame(new_list)\n",
    "# df.to_csv('fileoutput.csv')"
   ]
  }
 ],
 "metadata": {
  "kernelspec": {
   "display_name": "Python 3.10.5 64-bit",
   "language": "python",
   "name": "python3"
  },
  "language_info": {
   "codemirror_mode": {
    "name": "ipython",
    "version": 3
   },
   "file_extension": ".py",
   "mimetype": "text/x-python",
   "name": "python",
   "nbconvert_exporter": "python",
   "pygments_lexer": "ipython3",
   "version": "3.10.5"
  },
  "orig_nbformat": 4,
  "vscode": {
   "interpreter": {
    "hash": "dec930e7cd7a7d6c0515aec4de01fef8664a31db4f7190044a884892bb3a6429"
   }
  }
 },
 "nbformat": 4,
 "nbformat_minor": 2
}
