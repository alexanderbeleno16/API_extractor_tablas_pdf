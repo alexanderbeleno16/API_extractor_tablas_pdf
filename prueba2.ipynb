{
 "cells": [
  {
   "cell_type": "markdown",
   "metadata": {},
   "source": [
    "PASO #1: EXTRAER ENLACES DEL DOCUMENTO PDF. [HECHO]"
   ]
  },
  {
   "cell_type": "code",
   "execution_count": null,
   "metadata": {},
   "outputs": [],
   "source": [
    "import pandas as pd \n",
    "import PyPDF2\n",
    "import re\n",
    "\n",
    "LINK_ARCHIVO_PDF = open(r'carpeta_pdf/documentos_prueba_autos_sr_juan/060 OOHH.pdf','rb')   #OK\n",
    "# LINK_ARCHIVO_PDF = open(r'carpeta_pdf/documentos_prueba_autos_sr_juan/1658743688.6982_121-24.pdf','rb') #OK\n",
    "# LINK_ARCHIVO_PDF = open(r'carpeta_pdf/documentos_prueba_autos_sr_juan/Estado Electronico No. 065F.pdf','rb')    #OK\n",
    "# LINK_ARCHIVO_PDF = open(r'carpeta_pdf/documentos_prueba_autos_sr_juan/Estado No. 114.pdf','rb') #REGULAR {DOMINIO}\n",
    "# LINK_ARCHIVO_PDF = open(r'carpeta_pdf/documentos_prueba_autos_sr_juan/ESTADO_1.pdf','rb')   #OK\n",
    "# LINK_ARCHIVO_PDF = open(r'carpeta_pdf/documentos_prueba_autos_sr_juan/Estado20220726N083.pdf','rb') #REGULAR {DOMINIO}\n",
    "# LINK_ARCHIVO_PDF = open(r'carpeta_pdf/documentos_prueba_autos_sr_juan/pequeñas causas - laboral 004 barranquilla_27-07-2022 RAMA.pdf','rb') #OK\n",
    "\n",
    "PDF = PyPDF2.PdfFileReader(LINK_ARCHIVO_PDF, strict=False)\n",
    "paginas = PDF.getNumPages()\n",
    "\n",
    "dominio = 'https://www.ramajudicial.gov.co'\n",
    "key = '/Annots'\n",
    "url = '/URI'\n",
    "ank = '/A'\n",
    "mylist = []\n",
    "\n",
    "for page in range(paginas):\n",
    "    paginaExtraida = PDF.getPage(page)\n",
    "    ObjetoPaginaExtraida = paginaExtraida.getObject()\n",
    "    # print(ObjetoPaginaExtraida.keys())  \n",
    "    if key in ObjetoPaginaExtraida.keys():\n",
    "        array_objetos = ObjetoPaginaExtraida[key]\n",
    "        for obj in array_objetos:\n",
    "            try:\n",
    "                objeto = obj.getObject()\n",
    "                # print( objeto )\n",
    "                if url in objeto[ank].keys():\n",
    "                    link=\"\"\n",
    "                    if ( re.search(\"^\"+dominio+\"*\", objeto[ank][url]) ):\n",
    "                        link = objeto[ank][url]\n",
    "                    else:\n",
    "                        link = dominio+str(objeto[ank][url])\n",
    "                    mylist.append(link)\n",
    "                    # print(objeto[ank][url])\n",
    "            except KeyError:\n",
    "                pass\n",
    "            \n",
    "print(\"Pagina(s) encontrada(s): {}\".format(paginas))            \n",
    "sin_duplicados = set(mylist)\n",
    "new_list = list(sin_duplicados)\n",
    "print(\"Links encontrado(s): {}\".format(len(new_list)))            \n",
    "print( new_list )\n",
    "\n",
    "\n",
    "# df = pd.DataFrame(new_list)\n",
    "# df.to_csv('fileoutput.csv')"
   ]
  },
  {
   "cell_type": "markdown",
   "metadata": {},
   "source": [
    "#PASO #2: HACER EL CRUCE.   [PENDIENTE]"
   ]
  },
  {
   "cell_type": "code",
   "execution_count": null,
   "metadata": {},
   "outputs": [],
   "source": [
    "#Ideas:\n",
    "#Recibir el parametro(id_despacho) enviado desde PHP\n",
    "#sys.argv[1]\n",
    "#Consulto, \n",
    "\n",
    "\n"
   ]
  }
 ],
 "metadata": {
  "kernelspec": {
   "display_name": "Python 3.10.5 64-bit",
   "language": "python",
   "name": "python3"
  },
  "language_info": {
   "codemirror_mode": {
    "name": "ipython",
    "version": 3
   },
   "file_extension": ".py",
   "mimetype": "text/x-python",
   "name": "python",
   "nbconvert_exporter": "python",
   "pygments_lexer": "ipython3",
   "version": "3.10.5"
  },
  "orig_nbformat": 4,
  "vscode": {
   "interpreter": {
    "hash": "dec930e7cd7a7d6c0515aec4de01fef8664a31db4f7190044a884892bb3a6429"
   }
  }
 },
 "nbformat": 4,
 "nbformat_minor": 2
}
